{
 "cells": [
  {
   "cell_type": "code",
   "execution_count": null,
   "metadata": {},
   "outputs": [],
   "source": [
    "from lang_sam import LangSAM\n",
    "import argparse\n",
    "\n",
    "import matplotlib.pyplot as plt\n",
    "import numpy as np\n",
    "from PIL import Image\n",
    "import os\n",
    "\n",
    "#os.environ[\"CUDA_VISIBLE_DEVICES\"]=\"\"\n",
    "\n",
    "model = LangSAM()\n",
    "image_pil = Image.open(\"sample_input_images/chair.jpg\")\n",
    "masks, boxes, phrases, logits = model.predict(image_pil.convert(\"RGB\"), \"chair\")\n",
    "masks=masks.numpy()[0].astype(np.int8)\n"
   ]
  },
  {
   "cell_type": "code",
   "execution_count": null,
   "metadata": {},
   "outputs": [],
   "source": [
    "np.unique(masks)"
   ]
  },
  {
   "cell_type": "code",
   "execution_count": null,
   "metadata": {},
   "outputs": [],
   "source": [
    "mask_pil=Image.fromarray(masks*255)"
   ]
  },
  {
   "cell_type": "code",
   "execution_count": null,
   "metadata": {},
   "outputs": [],
   "source": []
  },
  {
   "cell_type": "code",
   "execution_count": null,
   "metadata": {},
   "outputs": [],
   "source": []
  },
  {
   "cell_type": "code",
   "execution_count": null,
   "metadata": {},
   "outputs": [],
   "source": [
    "import torch\n",
    "from diffusers import AutoPipelineForInpainting,AutoPipelineForImage2Image\n",
    "from diffusers.utils import load_image, make_image_grid\n",
    "import numpy as  np\n",
    "\n",
    "pipeline = AutoPipelineForInpainting.from_pretrained(\n",
    "    \"runwayml/stable-diffusion-inpainting\", torch_dtype=torch.float16, variant=\"fp16\"\n",
    ")\n",
    "pipeline = pipeline.to(\"cuda\")\n",
    "\n",
    "\n",
    "generator = torch.Generator(\"cuda\")#.manual_seed(42)\n",
    "init_image = load_image(\"sample_input_images/chair.jpg\")\n",
    "#mask_image = load_image(\"task1_output_images/chair_mask.jpg\")\n",
    "mask_image=mask_pil\n",
    "prompt = \"background\"\n",
    "init_image =pipeline(prompt=prompt, image=image_pil, mask_image=mask_image, generator=generator).images[0]\n",
    "init_image"
   ]
  },
  {
   "cell_type": "code",
   "execution_count": null,
   "metadata": {},
   "outputs": [],
   "source": []
  }
 ],
 "metadata": {
  "kernelspec": {
   "display_name": "ode",
   "language": "python",
   "name": "python3"
  },
  "language_info": {
   "codemirror_mode": {
    "name": "ipython",
    "version": 3
   },
   "file_extension": ".py",
   "mimetype": "text/x-python",
   "name": "python",
   "nbconvert_exporter": "python",
   "pygments_lexer": "ipython3",
   "version": "3.10.13"
  }
 },
 "nbformat": 4,
 "nbformat_minor": 2
}
